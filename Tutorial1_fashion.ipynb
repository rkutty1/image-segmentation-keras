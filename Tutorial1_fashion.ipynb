{
  "nbformat": 4,
  "nbformat_minor": 0,
  "metadata": {
    "colab": {
      "name": "Tutorial1_fashion.ipynb",
      "version": "0.3.2",
      "provenance": [],
      "collapsed_sections": [],
      "include_colab_link": true
    },
    "kernelspec": {
      "name": "python3",
      "display_name": "Python 3"
    }
  },
  "cells": [
    {
      "cell_type": "markdown",
      "metadata": {
        "id": "view-in-github",
        "colab_type": "text"
      },
      "source": [
        "<a href=\"https://colab.research.google.com/github/rkutty1/image-segmentation-keras/blob/master/Tutorial1_fashion.ipynb\" target=\"_parent\"><img src=\"https://colab.research.google.com/assets/colab-badge.svg\" alt=\"Open In Colab\"/></a>"
      ]
    },
    {
      "cell_type": "markdown",
      "metadata": {
        "id": "1wDgfMsvdWBM",
        "colab_type": "text"
      },
      "source": [
        "##Basic program\n",
        "---"
      ]
    },
    {
      "cell_type": "code",
      "metadata": {
        "id": "SqTfY5CU_x2x",
        "colab_type": "code",
        "outputId": "4dae82c7-5733-4984-c920-e8f031fb7c95",
        "colab": {
          "base_uri": "https://localhost:8080/",
          "height": 251
        }
      },
      "source": [
        "import tensorflow as tf\n",
        "from tensorflow import keras\n",
        "from keras.datasets import fashion_mnist\n",
        "import numpy as np\n",
        "\n",
        "#load dataset\n",
        "(train_images,train_labels),(test_images,test_labels) = fashion_mnist.load_data()\n",
        "\n",
        "#normalize images to give better accuracy in lesser epochs\n",
        "train_images = train_images/255.0\n",
        "test_images = test_images/255.0\n",
        "\n",
        "#setup model\n",
        "model = keras.Sequential([\n",
        "                          keras.layers.Flatten(input_shape=(28,28)),\n",
        "                          keras.layers.Dense(128,activation=tf.nn.relu),\n",
        "                          keras.layers.Dense(128,activation=tf.nn.relu),\n",
        "                          keras.layers.Dense(10,activation=tf.nn.softmax)\n",
        "])\n",
        "\n",
        "model.compile(loss='sparse_categorical_crossentropy',\n",
        "              optimizer='adam',\n",
        "              metrics=['accuracy'])\n",
        "\n",
        "#train model\n",
        "model.fit(train_images, train_labels, epochs=5)\n",
        "#evaluate accuracy\n",
        "model.evaluate(test_images, test_labels)\n",
        "\n",
        "#make prediction\n",
        "predict = model.predict(test_images)\n",
        "\n",
        "print(\"Predicted class of first item:\",np.argmax(predict[199]))\n",
        "print(\"Ground truth from dataset:\",test_labels[199])\n"
      ],
      "execution_count": 0,
      "outputs": [
        {
          "output_type": "stream",
          "text": [
            "Epoch 1/5\n",
            "60000/60000 [==============================] - 5s 80us/sample - loss: 0.4876 - acc: 0.8271\n",
            "Epoch 2/5\n",
            "60000/60000 [==============================] - 5s 80us/sample - loss: 0.3658 - acc: 0.8660\n",
            "Epoch 3/5\n",
            "60000/60000 [==============================] - 5s 77us/sample - loss: 0.3294 - acc: 0.8793\n",
            "Epoch 4/5\n",
            "60000/60000 [==============================] - 5s 77us/sample - loss: 0.3053 - acc: 0.8872\n",
            "Epoch 5/5\n",
            "60000/60000 [==============================] - 5s 78us/sample - loss: 0.2881 - acc: 0.8931\n",
            "10000/10000 [==============================] - 0s 45us/sample - loss: 0.3311 - acc: 0.8805\n",
            "Predicted class of first item: 1\n",
            "Ground truth from dataset: 1\n"
          ],
          "name": "stdout"
        }
      ]
    },
    {
      "cell_type": "markdown",
      "metadata": {
        "id": "BatfaWKSb-qe",
        "colab_type": "text"
      },
      "source": [
        "##Callbacks to control training\n",
        "---"
      ]
    },
    {
      "cell_type": "code",
      "metadata": {
        "id": "J0GsAs15dgst",
        "colab_type": "code",
        "outputId": "d133c418-0a59-48b2-e270-416928af8251",
        "colab": {
          "base_uri": "https://localhost:8080/",
          "height": 143
        }
      },
      "source": [
        "import tensorflow as tf\n",
        "from tensorflow import keras\n",
        "from keras.datasets import fashion_mnist\n",
        "\n",
        "class myCallback(keras.callbacks.Callback):\n",
        "  #GoodPractice: on_epoch_end, since some data/algo loss may vary up/down during epoch\n",
        "  def on_epoch_end(self,epoch,logs={}):\n",
        "    #other info can also be fetched from logs like 'acc'\n",
        "    if(logs.get('loss')<0.4):\n",
        "      print(\"\\n Loss is low ...Cancelling training\")\n",
        "      self.model.stop_training=True\n",
        "\n",
        "#instantiating class\n",
        "callbacks = myCallback()\n",
        "\n",
        "(train_images,train_labels),(test_images,test_labels) = fashion_mnist.load_data()\n",
        "\n",
        "train_images = train_images/255.0\n",
        "test_images = test_images/255.0\n",
        "\n",
        "model = keras.Sequential([\n",
        "                          keras.layers.Flatten(),\n",
        "                          keras.layers.Dense(128,activation=tf.nn.relu),\n",
        "                          keras.layers.Dense(128,activation=tf.nn.relu),\n",
        "                          keras.layers.Dense(10,activation=tf.nn.softmax)\n",
        "])\n",
        "\n",
        "model.compile(loss='sparse_categorical_crossentropy',\n",
        "              optimizer='adam',\n",
        "              metrics=['accuracy'])\n",
        "\n",
        "#passing instance of myCallback class \n",
        "model.fit(train_images,train_labels,epochs=5,callbacks=[callbacks])\n"
      ],
      "execution_count": 0,
      "outputs": [
        {
          "output_type": "stream",
          "text": [
            "Epoch 1/5\n",
            "60000/60000 [==============================] - 5s 82us/sample - loss: 0.4866 - acc: 0.8256\n",
            "Epoch 2/5\n",
            "59456/60000 [============================>.] - ETA: 0s - loss: 0.3635 - acc: 0.8646\n",
            " Loss is low ...Cancelling training\n",
            "60000/60000 [==============================] - 5s 77us/sample - loss: 0.3630 - acc: 0.8648\n"
          ],
          "name": "stdout"
        },
        {
          "output_type": "execute_result",
          "data": {
            "text/plain": [
              "<tensorflow.python.keras.callbacks.History at 0x7fb2532084a8>"
            ]
          },
          "metadata": {
            "tags": []
          },
          "execution_count": 43
        }
      ]
    }
  ]
}